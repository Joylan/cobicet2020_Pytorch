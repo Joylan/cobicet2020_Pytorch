{
 "cells": [
  {
   "cell_type": "markdown",
   "metadata": {},
   "source": [
    "# COMPARAÇÃO DE MODELOS DE REDES NEURAIS ARTIFICIAIS PARA A PREDIÇÃO DA IRRADIÂNCIA SOLAR NA GERAÇÃO DE ENERGIA FOTOVOLTAICA\n",
    "\n",
    "**Autores:** \n",
    "Victor H. Wentz$^1$\n",
    "Joylan N. Maciel$^2$\n",
    "\n",
    "$^1$victorhwentz@gmail.com\n",
    "$^2$joylan.maciel@unila.edu.br\n",
    "\n",
    "\n",
    ">Resumo:  Fatores climáticos não previsíveis promovem oscilações na geração de energia solar fotovoltaica. Enquanto diversas pesquisas propõem métodos de predição, poucas os comparam com o mesmo conjunto de dados. Este estudo avalia a acurácia de predição da irradiância solar empregando diferentes modelos de Redes Neurais Artificiais. Os resultados indicam que a estrutura de camadas das redes neurais, os distintos horizontes de predição e da irradiância solar influenciam na precisão dos modelos.  "
   ]
  },
  {
   "cell_type": "markdown",
   "metadata": {},
   "source": [
    "Este notebook tem como proposito apresentar de forma simplificada todo o processo para a finalização do artigo,\n",
    "deste a criação do dataset de treino/teste até a finalização com gráficos de geração. Utilizando como framework a biblioteca [PyTorch](https://pytorch.org/).\n",
    "Tentarei apresentar de forma didatica e sequencial de todo o processo.\n",
    "\n",
    "<div class=\"alert alert-success\"><strong>NOTE:</strong> As variaveis definidas neste notebook <tt><strong>não</strong></tt>\n",
    "    corresponde com as utilizadas no arquivo original, tambem não utilizarem GPU neste notebook, caso queria saber \n",
    "    como usar, entrar neste <a href='https://pytorch.org/docs/stable/notes/cuda.html'>Link</a>.</div>"
   ]
  },
  {
   "cell_type": "markdown",
   "metadata": {},
   "source": [
    "# Sumário\n",
    "1. Importação dos dados brutos\n",
    "    1. Selecionando o intervalo de tempo\n",
    "    2. Criação de novos atributos\n",
    "    3. Concatenando os Atributos previsores com a variavel GHI\n",
    "2. Inicio do PyTorch\n",
    "    1. Classe DataSet\n",
    "    2. Classe Module\n",
    "3. Treino\n",
    "    1. Definição dos parametros de treino\n",
    "    2. Colocando a maquina para aprender\n",
    "4. Teste\n",
    "    1. Metricas de Erro\n",
    "5. Gráficos\n",
    "    1. Geração de novos gráficos de predição\n",
    "    2. Comparando modelos"
   ]
  },
  {
   "cell_type": "markdown",
   "metadata": {},
   "source": [
    "# Importação dos dados brutos"
   ]
  },
  {
   "cell_type": "markdown",
   "metadata": {},
   "source": [
    "Os dados brutos estão divididos em 2 arquivos distinto, o primeiro folsom_weather possui os dados meterologicos dos anos de\n",
    "2014 até 2016 com intervalo de 1 minuto, ja o arquivo folsom_irradiance possui os dados de radiação(global, difusa e direta). Portanto devemos fazer a importação dos 2 arquivos, selecionar o intervalo de tempo apropriado, concatenar e por fim, separar em um dataset pra treino e outro para teste."
   ]
  },
  {
   "cell_type": "code",
   "execution_count": 1,
   "metadata": {},
   "outputs": [],
   "source": [
    "#bibliotecas\n",
    "import numpy as np\n",
    "import matplotlib.pyplot as plt\n",
    "import pandas as pd\n"
   ]
  },
  {
   "cell_type": "code",
   "execution_count": 2,
   "metadata": {},
   "outputs": [],
   "source": [
    "dataWeather = pd.read_csv(\"../Data/Folsom_weather.csv\", index_col = 0 ,parse_dates = True) \n",
    "dataIrra = pd.read_csv(\"../Data/Folsom_irradiance.csv\", index_col = 0 ,parse_dates = True)"
   ]
  },
  {
   "cell_type": "code",
   "execution_count": 3,
   "metadata": {},
   "outputs": [
    {
     "data": {
      "text/html": [
       "<div>\n",
       "<style scoped>\n",
       "    .dataframe tbody tr th:only-of-type {\n",
       "        vertical-align: middle;\n",
       "    }\n",
       "\n",
       "    .dataframe tbody tr th {\n",
       "        vertical-align: top;\n",
       "    }\n",
       "\n",
       "    .dataframe thead th {\n",
       "        text-align: right;\n",
       "    }\n",
       "</style>\n",
       "<table border=\"1\" class=\"dataframe\">\n",
       "  <thead>\n",
       "    <tr style=\"text-align: right;\">\n",
       "      <th></th>\n",
       "      <th>air_temp</th>\n",
       "      <th>relhum</th>\n",
       "      <th>press</th>\n",
       "      <th>windsp</th>\n",
       "      <th>winddir</th>\n",
       "      <th>max_windsp</th>\n",
       "      <th>precipitation</th>\n",
       "    </tr>\n",
       "    <tr>\n",
       "      <th>timeStamp</th>\n",
       "      <th></th>\n",
       "      <th></th>\n",
       "      <th></th>\n",
       "      <th></th>\n",
       "      <th></th>\n",
       "      <th></th>\n",
       "      <th></th>\n",
       "    </tr>\n",
       "  </thead>\n",
       "  <tbody>\n",
       "    <tr>\n",
       "      <th>2014-01-02 08:00:00</th>\n",
       "      <td>7.32</td>\n",
       "      <td>56.56</td>\n",
       "      <td>1010.0</td>\n",
       "      <td>1.80</td>\n",
       "      <td>43.61</td>\n",
       "      <td>3.7</td>\n",
       "      <td>0.0</td>\n",
       "    </tr>\n",
       "    <tr>\n",
       "      <th>2014-01-02 08:01:00</th>\n",
       "      <td>7.26</td>\n",
       "      <td>56.82</td>\n",
       "      <td>1010.0</td>\n",
       "      <td>2.00</td>\n",
       "      <td>48.40</td>\n",
       "      <td>3.1</td>\n",
       "      <td>0.0</td>\n",
       "    </tr>\n",
       "    <tr>\n",
       "      <th>2014-01-02 08:02:00</th>\n",
       "      <td>7.20</td>\n",
       "      <td>56.96</td>\n",
       "      <td>1010.0</td>\n",
       "      <td>1.90</td>\n",
       "      <td>31.80</td>\n",
       "      <td>3.7</td>\n",
       "      <td>0.0</td>\n",
       "    </tr>\n",
       "    <tr>\n",
       "      <th>2014-01-02 08:03:00</th>\n",
       "      <td>7.14</td>\n",
       "      <td>57.12</td>\n",
       "      <td>1010.0</td>\n",
       "      <td>1.44</td>\n",
       "      <td>38.98</td>\n",
       "      <td>2.5</td>\n",
       "      <td>0.0</td>\n",
       "    </tr>\n",
       "    <tr>\n",
       "      <th>2014-01-02 08:04:00</th>\n",
       "      <td>7.08</td>\n",
       "      <td>57.36</td>\n",
       "      <td>1010.0</td>\n",
       "      <td>1.84</td>\n",
       "      <td>34.21</td>\n",
       "      <td>2.8</td>\n",
       "      <td>0.0</td>\n",
       "    </tr>\n",
       "  </tbody>\n",
       "</table>\n",
       "</div>"
      ],
      "text/plain": [
       "                     air_temp  relhum   press  windsp  winddir  max_windsp  \\\n",
       "timeStamp                                                                    \n",
       "2014-01-02 08:00:00      7.32   56.56  1010.0    1.80    43.61         3.7   \n",
       "2014-01-02 08:01:00      7.26   56.82  1010.0    2.00    48.40         3.1   \n",
       "2014-01-02 08:02:00      7.20   56.96  1010.0    1.90    31.80         3.7   \n",
       "2014-01-02 08:03:00      7.14   57.12  1010.0    1.44    38.98         2.5   \n",
       "2014-01-02 08:04:00      7.08   57.36  1010.0    1.84    34.21         2.8   \n",
       "\n",
       "                     precipitation  \n",
       "timeStamp                           \n",
       "2014-01-02 08:00:00            0.0  \n",
       "2014-01-02 08:01:00            0.0  \n",
       "2014-01-02 08:02:00            0.0  \n",
       "2014-01-02 08:03:00            0.0  \n",
       "2014-01-02 08:04:00            0.0  "
      ]
     },
     "execution_count": 3,
     "metadata": {},
     "output_type": "execute_result"
    }
   ],
   "source": [
    "dataWeather.head()"
   ]
  },
  {
   "cell_type": "code",
   "execution_count": 4,
   "metadata": {},
   "outputs": [],
   "source": [
    "#Vamos adicionar 2 atributos no DataFrame dataWeather, que são os atributos de tempo\n",
    "dataWeather[\"mes\"] = dataWeather.index.month\n",
    "dataWeather[\"hora\"] = dataWeather.index.hour \n",
    "dataWeather[\"min\"] = dataWeather.index.minute"
   ]
  },
  {
   "cell_type": "code",
   "execution_count": 5,
   "metadata": {},
   "outputs": [
    {
     "data": {
      "text/html": [
       "<div>\n",
       "<style scoped>\n",
       "    .dataframe tbody tr th:only-of-type {\n",
       "        vertical-align: middle;\n",
       "    }\n",
       "\n",
       "    .dataframe tbody tr th {\n",
       "        vertical-align: top;\n",
       "    }\n",
       "\n",
       "    .dataframe thead th {\n",
       "        text-align: right;\n",
       "    }\n",
       "</style>\n",
       "<table border=\"1\" class=\"dataframe\">\n",
       "  <thead>\n",
       "    <tr style=\"text-align: right;\">\n",
       "      <th></th>\n",
       "      <th>air_temp</th>\n",
       "      <th>relhum</th>\n",
       "      <th>press</th>\n",
       "      <th>windsp</th>\n",
       "      <th>winddir</th>\n",
       "      <th>max_windsp</th>\n",
       "      <th>precipitation</th>\n",
       "      <th>mes</th>\n",
       "      <th>hora</th>\n",
       "      <th>min</th>\n",
       "    </tr>\n",
       "    <tr>\n",
       "      <th>timeStamp</th>\n",
       "      <th></th>\n",
       "      <th></th>\n",
       "      <th></th>\n",
       "      <th></th>\n",
       "      <th></th>\n",
       "      <th></th>\n",
       "      <th></th>\n",
       "      <th></th>\n",
       "      <th></th>\n",
       "      <th></th>\n",
       "    </tr>\n",
       "  </thead>\n",
       "  <tbody>\n",
       "    <tr>\n",
       "      <th>2014-01-02 08:00:00</th>\n",
       "      <td>7.32</td>\n",
       "      <td>56.56</td>\n",
       "      <td>1010.0</td>\n",
       "      <td>1.80</td>\n",
       "      <td>43.61</td>\n",
       "      <td>3.7</td>\n",
       "      <td>0.0</td>\n",
       "      <td>1</td>\n",
       "      <td>8</td>\n",
       "      <td>0</td>\n",
       "    </tr>\n",
       "    <tr>\n",
       "      <th>2014-01-02 08:01:00</th>\n",
       "      <td>7.26</td>\n",
       "      <td>56.82</td>\n",
       "      <td>1010.0</td>\n",
       "      <td>2.00</td>\n",
       "      <td>48.40</td>\n",
       "      <td>3.1</td>\n",
       "      <td>0.0</td>\n",
       "      <td>1</td>\n",
       "      <td>8</td>\n",
       "      <td>1</td>\n",
       "    </tr>\n",
       "    <tr>\n",
       "      <th>2014-01-02 08:02:00</th>\n",
       "      <td>7.20</td>\n",
       "      <td>56.96</td>\n",
       "      <td>1010.0</td>\n",
       "      <td>1.90</td>\n",
       "      <td>31.80</td>\n",
       "      <td>3.7</td>\n",
       "      <td>0.0</td>\n",
       "      <td>1</td>\n",
       "      <td>8</td>\n",
       "      <td>2</td>\n",
       "    </tr>\n",
       "    <tr>\n",
       "      <th>2014-01-02 08:03:00</th>\n",
       "      <td>7.14</td>\n",
       "      <td>57.12</td>\n",
       "      <td>1010.0</td>\n",
       "      <td>1.44</td>\n",
       "      <td>38.98</td>\n",
       "      <td>2.5</td>\n",
       "      <td>0.0</td>\n",
       "      <td>1</td>\n",
       "      <td>8</td>\n",
       "      <td>3</td>\n",
       "    </tr>\n",
       "    <tr>\n",
       "      <th>2014-01-02 08:04:00</th>\n",
       "      <td>7.08</td>\n",
       "      <td>57.36</td>\n",
       "      <td>1010.0</td>\n",
       "      <td>1.84</td>\n",
       "      <td>34.21</td>\n",
       "      <td>2.8</td>\n",
       "      <td>0.0</td>\n",
       "      <td>1</td>\n",
       "      <td>8</td>\n",
       "      <td>4</td>\n",
       "    </tr>\n",
       "  </tbody>\n",
       "</table>\n",
       "</div>"
      ],
      "text/plain": [
       "                     air_temp  relhum   press  windsp  winddir  max_windsp  \\\n",
       "timeStamp                                                                    \n",
       "2014-01-02 08:00:00      7.32   56.56  1010.0    1.80    43.61         3.7   \n",
       "2014-01-02 08:01:00      7.26   56.82  1010.0    2.00    48.40         3.1   \n",
       "2014-01-02 08:02:00      7.20   56.96  1010.0    1.90    31.80         3.7   \n",
       "2014-01-02 08:03:00      7.14   57.12  1010.0    1.44    38.98         2.5   \n",
       "2014-01-02 08:04:00      7.08   57.36  1010.0    1.84    34.21         2.8   \n",
       "\n",
       "                     precipitation  mes  hora  min  \n",
       "timeStamp                                           \n",
       "2014-01-02 08:00:00            0.0    1     8    0  \n",
       "2014-01-02 08:01:00            0.0    1     8    1  \n",
       "2014-01-02 08:02:00            0.0    1     8    2  \n",
       "2014-01-02 08:03:00            0.0    1     8    3  \n",
       "2014-01-02 08:04:00            0.0    1     8    4  "
      ]
     },
     "execution_count": 5,
     "metadata": {},
     "output_type": "execute_result"
    }
   ],
   "source": [
    "dataWeather.head()"
   ]
  },
  {
   "cell_type": "code",
   "execution_count": 6,
   "metadata": {},
   "outputs": [
    {
     "data": {
      "text/html": [
       "<div>\n",
       "<style scoped>\n",
       "    .dataframe tbody tr th:only-of-type {\n",
       "        vertical-align: middle;\n",
       "    }\n",
       "\n",
       "    .dataframe tbody tr th {\n",
       "        vertical-align: top;\n",
       "    }\n",
       "\n",
       "    .dataframe thead th {\n",
       "        text-align: right;\n",
       "    }\n",
       "</style>\n",
       "<table border=\"1\" class=\"dataframe\">\n",
       "  <thead>\n",
       "    <tr style=\"text-align: right;\">\n",
       "      <th></th>\n",
       "      <th>ghi</th>\n",
       "      <th>dni</th>\n",
       "      <th>dhi</th>\n",
       "    </tr>\n",
       "    <tr>\n",
       "      <th>timeStamp</th>\n",
       "      <th></th>\n",
       "      <th></th>\n",
       "      <th></th>\n",
       "    </tr>\n",
       "  </thead>\n",
       "  <tbody>\n",
       "    <tr>\n",
       "      <th>2014-01-02 08:00:00</th>\n",
       "      <td>0.0</td>\n",
       "      <td>0.0</td>\n",
       "      <td>0.0</td>\n",
       "    </tr>\n",
       "    <tr>\n",
       "      <th>2014-01-02 08:01:00</th>\n",
       "      <td>0.0</td>\n",
       "      <td>0.0</td>\n",
       "      <td>0.0</td>\n",
       "    </tr>\n",
       "    <tr>\n",
       "      <th>2014-01-02 08:02:00</th>\n",
       "      <td>0.0</td>\n",
       "      <td>0.0</td>\n",
       "      <td>0.0</td>\n",
       "    </tr>\n",
       "    <tr>\n",
       "      <th>2014-01-02 08:03:00</th>\n",
       "      <td>0.0</td>\n",
       "      <td>0.0</td>\n",
       "      <td>0.0</td>\n",
       "    </tr>\n",
       "    <tr>\n",
       "      <th>2014-01-02 08:04:00</th>\n",
       "      <td>0.0</td>\n",
       "      <td>0.0</td>\n",
       "      <td>0.0</td>\n",
       "    </tr>\n",
       "  </tbody>\n",
       "</table>\n",
       "</div>"
      ],
      "text/plain": [
       "                     ghi  dni  dhi\n",
       "timeStamp                         \n",
       "2014-01-02 08:00:00  0.0  0.0  0.0\n",
       "2014-01-02 08:01:00  0.0  0.0  0.0\n",
       "2014-01-02 08:02:00  0.0  0.0  0.0\n",
       "2014-01-02 08:03:00  0.0  0.0  0.0\n",
       "2014-01-02 08:04:00  0.0  0.0  0.0"
      ]
     },
     "execution_count": 6,
     "metadata": {},
     "output_type": "execute_result"
    }
   ],
   "source": [
    "dataIrra.head()"
   ]
  },
  {
   "cell_type": "code",
   "execution_count": 7,
   "metadata": {},
   "outputs": [],
   "source": [
    "# Como queremos fazer a predição de ghi, iremos selecionar apenas ele.\n",
    "# dataIrra = dataIrra[[\"ghi\"]]\n",
    "dataIrra.drop([\"dni\",\"dhi\"], inplace = True, axis = 1)"
   ]
  },
  {
   "cell_type": "code",
   "execution_count": 8,
   "metadata": {},
   "outputs": [
    {
     "data": {
      "text/html": [
       "<div>\n",
       "<style scoped>\n",
       "    .dataframe tbody tr th:only-of-type {\n",
       "        vertical-align: middle;\n",
       "    }\n",
       "\n",
       "    .dataframe tbody tr th {\n",
       "        vertical-align: top;\n",
       "    }\n",
       "\n",
       "    .dataframe thead th {\n",
       "        text-align: right;\n",
       "    }\n",
       "</style>\n",
       "<table border=\"1\" class=\"dataframe\">\n",
       "  <thead>\n",
       "    <tr style=\"text-align: right;\">\n",
       "      <th></th>\n",
       "      <th>ghi</th>\n",
       "    </tr>\n",
       "    <tr>\n",
       "      <th>timeStamp</th>\n",
       "      <th></th>\n",
       "    </tr>\n",
       "  </thead>\n",
       "  <tbody>\n",
       "    <tr>\n",
       "      <th>2014-01-02 08:00:00</th>\n",
       "      <td>0.0</td>\n",
       "    </tr>\n",
       "    <tr>\n",
       "      <th>2014-01-02 08:01:00</th>\n",
       "      <td>0.0</td>\n",
       "    </tr>\n",
       "    <tr>\n",
       "      <th>2014-01-02 08:02:00</th>\n",
       "      <td>0.0</td>\n",
       "    </tr>\n",
       "    <tr>\n",
       "      <th>2014-01-02 08:03:00</th>\n",
       "      <td>0.0</td>\n",
       "    </tr>\n",
       "    <tr>\n",
       "      <th>2014-01-02 08:04:00</th>\n",
       "      <td>0.0</td>\n",
       "    </tr>\n",
       "  </tbody>\n",
       "</table>\n",
       "</div>"
      ],
      "text/plain": [
       "                     ghi\n",
       "timeStamp               \n",
       "2014-01-02 08:00:00  0.0\n",
       "2014-01-02 08:01:00  0.0\n",
       "2014-01-02 08:02:00  0.0\n",
       "2014-01-02 08:03:00  0.0\n",
       "2014-01-02 08:04:00  0.0"
      ]
     },
     "execution_count": 8,
     "metadata": {},
     "output_type": "execute_result"
    }
   ],
   "source": [
    "dataIrra.head()"
   ]
  },
  {
   "cell_type": "code",
   "execution_count": 9,
   "metadata": {},
   "outputs": [],
   "source": [
    "#Agora concatenamos os 2 DataFrame\n",
    "dataFinal = pd.concat([dataWeather,dataIrra], axis = 1)"
   ]
  },
  {
   "cell_type": "code",
   "execution_count": 10,
   "metadata": {},
   "outputs": [],
   "source": [
    "missing = dataFinal.isna()\n",
    "dataFinal = dataFinal.interpolate('linear')"
   ]
  },
  {
   "cell_type": "code",
   "execution_count": 11,
   "metadata": {},
   "outputs": [
    {
     "data": {
      "text/plain": [
       "air_temp         0\n",
       "relhum           0\n",
       "press            0\n",
       "windsp           0\n",
       "winddir          0\n",
       "max_windsp       0\n",
       "precipitation    0\n",
       "mes              0\n",
       "hora             0\n",
       "min              0\n",
       "ghi              0\n",
       "dtype: int64"
      ]
     },
     "execution_count": 11,
     "metadata": {},
     "output_type": "execute_result"
    }
   ],
   "source": [
    "dataFinal.isna().sum()"
   ]
  },
  {
   "cell_type": "code",
   "execution_count": 12,
   "metadata": {},
   "outputs": [],
   "source": [
    "#Selecionando o intervalo\n",
    "dataFinal = dataFinal[dataFinal.index.minute % 5 == 0] # Seleciona um item a cada 5 minutos"
   ]
  },
  {
   "cell_type": "code",
   "execution_count": 13,
   "metadata": {},
   "outputs": [],
   "source": [
    "trainSize = int(len(dataFinal) * 0.98) # Selecionar os 98% primeiros dados para treino"
   ]
  },
  {
   "cell_type": "code",
   "execution_count": 14,
   "metadata": {},
   "outputs": [],
   "source": [
    "dataTrain = dataFinal[:trainSize]\n",
    "dataTest = dataFinal[trainSize:]"
   ]
  },
  {
   "cell_type": "code",
   "execution_count": 15,
   "metadata": {},
   "outputs": [
    {
     "name": "stdout",
     "output_type": "stream",
     "text": [
      "Tamanho do dataset(5 minutos): 310464\n",
      "Tamanho do Treino: 304254\n",
      "Tamanho do Teste: 6210\n"
     ]
    }
   ],
   "source": [
    "print(f\"Tamanho do dataset(5 minutos): {len(dataFinal)}\")\n",
    "print(f\"Tamanho do Treino: {len(dataTrain)}\")\n",
    "print(f\"Tamanho do Teste: {len(dataTest)}\")"
   ]
  },
  {
   "cell_type": "markdown",
   "metadata": {},
   "source": [
    "Agora que temos os 2 DataFrame para treino e teste, vamos entrar no mundo do PyTorch, poderiamos fazer extração\n",
    "de caracteristicas nos DataFrame, mas esse não é e nem foi o escopo da pesquisa."
   ]
  },
  {
   "cell_type": "markdown",
   "metadata": {},
   "source": [
    "# Inicio Pytorch"
   ]
  },
  {
   "cell_type": "code",
   "execution_count": 16,
   "metadata": {},
   "outputs": [],
   "source": [
    "import torch\n",
    "import torch.nn as nn\n",
    "import torch.nn.functional as F\n",
    "from torch.utils.data import DataLoader, Dataset\n",
    "import warnings\n",
    "warnings.filterwarnings(\"ignore\")"
   ]
  },
  {
   "cell_type": "markdown",
   "metadata": {},
   "source": [
    "Para realizer o melhor uso do PyTorch, precisamos criar uma classe [DataSet](https://pytorch.org/docs/stable/data.html#torch.utils.data.Dataset) que carregue nossos dados para um [DataLoader](https://pytorch.org/docs/stable/data.html#torch.utils.data.DataLoader)"
   ]
  },
  {
   "cell_type": "code",
   "execution_count": 17,
   "metadata": {},
   "outputs": [],
   "source": [
    "#Classe DataSet\n",
    "class dataSet():\n",
    "    \n",
    "    \"\"\"\n",
    "    dataFrame: DataFrame a ser utilizado\n",
    "    norm: Normalização dos dados.\n",
    "    \n",
    "    A função __getitem__ é responsavel de fazer a coleta dos dados\n",
    "    \n",
    "    A função __len__ retorna o tamanho dos dados.\n",
    "    \n",
    "    \"\"\"\n",
    "    \n",
    "    def __init__(self, dataFrame, norm = True): #inicialização da classe\n",
    "        \n",
    "        self.data = dataFrame\n",
    "        \n",
    "        if norm == True:\n",
    "            from sklearn.preprocessing import StandardScaler\n",
    "            scaler = StandardScaler()\n",
    "            self.data = scaler.fit_transform(self.data)\n",
    "            \n",
    "    def __getitem__(self,idx): \n",
    "        features = self.data[idx][0:10] #features\n",
    "        label = self.data[idx][-1:] #ghi\n",
    "        \n",
    "        features = torch.from_numpy(features.astype(np.float32))\n",
    "        label = torch.from_numpy(label.astype(np.float32))\n",
    "        \n",
    "        return features, label\n",
    "    \n",
    "    def __len__(self):\n",
    "        return len(self.data)"
   ]
  },
  {
   "cell_type": "markdown",
   "metadata": {},
   "source": [
    "Poderiamos extender a classe a cima para incluir diferentes tipos de normalização."
   ]
  },
  {
   "cell_type": "code",
   "execution_count": 18,
   "metadata": {},
   "outputs": [],
   "source": [
    "trainDataSet = dataSet(dataTrain) \n",
    "testDataSet = dataSet(dataTest)"
   ]
  },
  {
   "cell_type": "code",
   "execution_count": 19,
   "metadata": {},
   "outputs": [
    {
     "data": {
      "text/plain": [
       "(tensor([-1.2660,  0.1072,  1.2865,  0.5649, -1.6588,  1.2525, -0.0729, -1.6187,\n",
       "         -0.5058, -1.5932]), tensor([-0.7105]))"
      ]
     },
     "execution_count": 19,
     "metadata": {},
     "output_type": "execute_result"
    }
   ],
   "source": [
    "trainDataSet[0]"
   ]
  },
  {
   "cell_type": "code",
   "execution_count": 20,
   "metadata": {},
   "outputs": [],
   "source": [
    "#Classe Module define a arquitetura do modelo que iremos utilizar. neste caso vamos utilizar um modelo geral\n",
    "#que possa ser inicializado com a arquitetura que preferir.\n",
    "class PvModel(nn.Module):\n",
    "    \"\"\"\n",
    "    input_feature(int): Quantidade de atributos previsores\n",
    "    output_feature(int): Saida da rede\n",
    "    layers_dims(list): Lista com a quantidade de neuronios em cada camada oculta \n",
    "    p: Probabilidade do dropout acontecer.\n",
    "    \"\"\"\n",
    "    def __init__(self, input_feature, output_feature, layers_dims, p = 0.3):\n",
    "        super(PvModel,self).__init__() #super inicialização\n",
    "        \n",
    "        layerlist = []\n",
    "        count = 0\n",
    "        for i in layers_dims:\n",
    "            layerlist.append(nn.Linear(input_feature,i))\n",
    "            nn.init.kaiming_normal_(layerlist[count].weight)\n",
    "            layerlist.append(nn.ReLU(inplace=True))\n",
    "            layerlist.append(nn.Dropout(p))\n",
    "            input_feature = i\n",
    "            count += 3 \n",
    "            \n",
    "        layerlist.append(nn.Linear(layers_dims[-1], output_feature))\n",
    "        nn.init.kaiming_normal_(layerlist[count].weight)\n",
    "        \n",
    "        self.layers = nn.Sequential(*layerlist)\n",
    "        \n",
    "    def forward(self, X):\n",
    "        X = self.layers(X)\n",
    "        return X"
   ]
  },
  {
   "cell_type": "code",
   "execution_count": 21,
   "metadata": {},
   "outputs": [],
   "source": [
    "#Dicionario com hiperparemetros.\n",
    "args = {\"Epocas\": 10 ,   #Numero de epocas \n",
    "       \"Lr\": 1e-3 ,    # Taxa de aprendizado\n",
    "       \"num_work\": 0 ,  #Processos\n",
    "       \"wd\": 5e-4, # Weight decay\n",
    "       \"batchSize\": 64 # Tamanho do batch\n",
    "       }"
   ]
  },
  {
   "cell_type": "code",
   "execution_count": 22,
   "metadata": {},
   "outputs": [],
   "source": [
    "#DataLoaders\n",
    "trainDataLoader = DataLoader(trainDataSet,\n",
    "                            batch_size = args[\"batchSize\"],\n",
    "                            shuffle = True, \n",
    "                            num_workers=args[\"num_work\"])\n",
    "\n",
    "testDataLoader = DataLoader(testDataSet,\n",
    "                            batch_size = args[\"batchSize\"],\n",
    "                            shuffle = False, \n",
    "                            num_workers=args[\"num_work\"])"
   ]
  },
  {
   "cell_type": "code",
   "execution_count": 23,
   "metadata": {},
   "outputs": [],
   "source": [
    "#Rede qualquer\n",
    "layers = [15,25,34,35]\n",
    "in_f = len(trainDataSet[0][0])\n",
    "out_f = 1\n",
    "model = PvModel(in_f,out_f,layers)"
   ]
  },
  {
   "cell_type": "code",
   "execution_count": 24,
   "metadata": {},
   "outputs": [
    {
     "data": {
      "text/plain": [
       "PvModel(\n",
       "  (layers): Sequential(\n",
       "    (0): Linear(in_features=10, out_features=15, bias=True)\n",
       "    (1): ReLU(inplace=True)\n",
       "    (2): Dropout(p=0.3, inplace=False)\n",
       "    (3): Linear(in_features=15, out_features=25, bias=True)\n",
       "    (4): ReLU(inplace=True)\n",
       "    (5): Dropout(p=0.3, inplace=False)\n",
       "    (6): Linear(in_features=25, out_features=34, bias=True)\n",
       "    (7): ReLU(inplace=True)\n",
       "    (8): Dropout(p=0.3, inplace=False)\n",
       "    (9): Linear(in_features=34, out_features=35, bias=True)\n",
       "    (10): ReLU(inplace=True)\n",
       "    (11): Dropout(p=0.3, inplace=False)\n",
       "    (12): Linear(in_features=35, out_features=1, bias=True)\n",
       "  )\n",
       ")"
      ]
     },
     "execution_count": 24,
     "metadata": {},
     "output_type": "execute_result"
    }
   ],
   "source": [
    "model"
   ]
  },
  {
   "cell_type": "code",
   "execution_count": 25,
   "metadata": {},
   "outputs": [],
   "source": [
    "#Criterio e Otimizador\n",
    "criterion = nn.MSELoss() \n",
    "optimizer = torch.optim.Adam(model.parameters(),lr=args[\"Lr\"],weight_decay=args[\"wd\"])"
   ]
  },
  {
   "cell_type": "code",
   "execution_count": 26,
   "metadata": {},
   "outputs": [
    {
     "name": "stdout",
     "output_type": "stream",
     "text": [
      "Epoch: 0 \tTraining Loss: 0.620825 \tValidation Loss: 0.468175\n",
      "Epoch: 1 \tTraining Loss: 0.452794 \tValidation Loss: 0.410777\n",
      "Epoch: 2 \tTraining Loss: 0.414564 \tValidation Loss: 0.390626\n",
      "Epoch: 3 \tTraining Loss: 0.402411 \tValidation Loss: 0.404598\n",
      "Epoch: 4 \tTraining Loss: 0.393105 \tValidation Loss: 0.375297\n",
      "Epoch: 5 \tTraining Loss: 0.386586 \tValidation Loss: 0.394502\n",
      "Epoch: 6 \tTraining Loss: 0.383650 \tValidation Loss: 0.392278\n",
      "Epoch: 7 \tTraining Loss: 0.380962 \tValidation Loss: 0.399699\n",
      "Epoch: 8 \tTraining Loss: 0.380718 \tValidation Loss: 0.391434\n",
      "Epoch: 9 \tTraining Loss: 0.382370 \tValidation Loss: 0.382652\n"
     ]
    }
   ],
   "source": [
    "#Treino\n",
    "train_loss = []\n",
    "val_loss = []\n",
    "\n",
    "for epo in range(args[\"Epocas\"]):\n",
    "    trainEpo = []\n",
    "    valEpo = []\n",
    "    \n",
    "    #Train Model\n",
    "    model.train()\n",
    "    for batch, (X_train, y_train) in enumerate(trainDataLoader):\n",
    "        optimizer.zero_grad()\n",
    "        #forward\n",
    "        y_hat = model(X_train)\n",
    "        loss = torch.sqrt(criterion(y_hat,y_train))\n",
    "        trainEpo.append(loss.data)\n",
    "        \n",
    "        #backprop\n",
    "        \n",
    "        loss.backward()\n",
    "        optimizer.step()\n",
    "        \n",
    "    \n",
    "    #Eval\n",
    "    model.eval()\n",
    "    with torch.no_grad():\n",
    "        for X_test, y_test in testDataLoader:\n",
    "            y_hat = model(X_test)\n",
    "            loss = torch.sqrt(criterion(y_hat,y_test))\n",
    "            \n",
    "            valEpo.append(loss.data)\n",
    "            \n",
    "    trainEpo = np.asarray(trainEpo)\n",
    "    valEpo = np.asarray(valEpo)\n",
    "    \n",
    "    train_loss.append(trainEpo.mean())\n",
    "    val_loss.append(valEpo.mean())\n",
    "    \n",
    "    \n",
    "    print(f'Epoch: {epo} \\tTraining Loss: {trainEpo.mean():.6f} \\tValidation Loss: {valEpo.mean():.6f}')"
   ]
  },
  {
   "cell_type": "markdown",
   "metadata": {},
   "source": [
    "Talvez essa não seja a melhor forma de fazer o treinamento, mas como dito antes, é apenas um notebook de apresentação.\n",
    "seria necessario definir um criterio de [early stopping](https://www.google.com/search?q=machine+learning+early+stopping&rlz=1C1SQJL_pt-BRBR857BR857&sxsrf=ALeKk01uu1Myi0gBINFekwUsDvLJOkB8Hg:1596576766726&source=lnms&tbm=isch&sa=X&ved=2ahUKEwia8aX4v4LrAhWiIbkGHfeMAqMQ_AUoAnoECBQQBA&biw=1536&bih=722#imgrc=qSlOF_rIVypL3M) caso alguem queria utilizar esse notebook como alguma referencia."
   ]
  },
  {
   "cell_type": "code",
   "execution_count": 27,
   "metadata": {},
   "outputs": [
    {
     "data": {
      "image/png": "[encoded data removed]",
      "text/plain": [
       "<Figure size 432x288 with 1 Axes>"
      ]
     },
     "metadata": {
      "needs_background": "light"
     },
     "output_type": "display_data"
    }
   ],
   "source": [
    "plt.plot(train_loss, label=\"Training Loss\")\n",
    "plt.plot(val_loss, label = \"Validation Loss\")\n",
    "plt.title(\"Loss por epoca\")\n",
    "plt.xlabel(\"Epocas\")\n",
    "plt.ylabel(\"Loss\")\n",
    "plt.legend()\n",
    "plt.grid(True)\n"
   ]
  },
  {
   "cell_type": "markdown",
   "metadata": {},
   "source": [
    "Agora o certo seria pegar uma base de dados que a rede neural não viu ainda e realizar os testes, mas aqui iremos utilizar as ultimas 24 horas do mês de dezembro de 2016. Com estes dados vamos calcular o RMSE, MAPE, MBE e fazer graficos comparando a geração observada com a prevista"
   ]
  },
  {
   "cell_type": "code",
   "execution_count": 69,
   "metadata": {},
   "outputs": [],
   "source": [
    "from sklearn.metrics import r2_score\n",
    "from sklearn.preprocessing import StandardScaler"
   ]
  },
  {
   "cell_type": "code",
   "execution_count": 33,
   "metadata": {},
   "outputs": [
    {
     "data": {
      "text/html": [
       "<div>\n",
       "<style scoped>\n",
       "    .dataframe tbody tr th:only-of-type {\n",
       "        vertical-align: middle;\n",
       "    }\n",
       "\n",
       "    .dataframe tbody tr th {\n",
       "        vertical-align: top;\n",
       "    }\n",
       "\n",
       "    .dataframe thead th {\n",
       "        text-align: right;\n",
       "    }\n",
       "</style>\n",
       "<table border=\"1\" class=\"dataframe\">\n",
       "  <thead>\n",
       "    <tr style=\"text-align: right;\">\n",
       "      <th></th>\n",
       "      <th>air_temp</th>\n",
       "      <th>relhum</th>\n",
       "      <th>press</th>\n",
       "      <th>windsp</th>\n",
       "      <th>winddir</th>\n",
       "      <th>max_windsp</th>\n",
       "      <th>precipitation</th>\n",
       "      <th>mes</th>\n",
       "      <th>hora</th>\n",
       "      <th>min</th>\n",
       "      <th>ghi</th>\n",
       "    </tr>\n",
       "    <tr>\n",
       "      <th>timeStamp</th>\n",
       "      <th></th>\n",
       "      <th></th>\n",
       "      <th></th>\n",
       "      <th></th>\n",
       "      <th></th>\n",
       "      <th></th>\n",
       "      <th></th>\n",
       "      <th></th>\n",
       "      <th></th>\n",
       "      <th></th>\n",
       "      <th></th>\n",
       "    </tr>\n",
       "  </thead>\n",
       "  <tbody>\n",
       "    <tr>\n",
       "      <th>2016-12-30 08:00:00</th>\n",
       "      <td>6.70</td>\n",
       "      <td>77.70</td>\n",
       "      <td>1008.0</td>\n",
       "      <td>0.96</td>\n",
       "      <td>93.50</td>\n",
       "      <td>1.9</td>\n",
       "      <td>0.0</td>\n",
       "      <td>12</td>\n",
       "      <td>8</td>\n",
       "      <td>0</td>\n",
       "      <td>0.0</td>\n",
       "    </tr>\n",
       "    <tr>\n",
       "      <th>2016-12-30 08:05:00</th>\n",
       "      <td>6.56</td>\n",
       "      <td>78.20</td>\n",
       "      <td>1008.0</td>\n",
       "      <td>1.24</td>\n",
       "      <td>79.35</td>\n",
       "      <td>2.0</td>\n",
       "      <td>0.0</td>\n",
       "      <td>12</td>\n",
       "      <td>8</td>\n",
       "      <td>5</td>\n",
       "      <td>0.0</td>\n",
       "    </tr>\n",
       "    <tr>\n",
       "      <th>2016-12-30 08:10:00</th>\n",
       "      <td>6.20</td>\n",
       "      <td>78.52</td>\n",
       "      <td>1008.0</td>\n",
       "      <td>0.92</td>\n",
       "      <td>39.37</td>\n",
       "      <td>1.8</td>\n",
       "      <td>0.0</td>\n",
       "      <td>12</td>\n",
       "      <td>8</td>\n",
       "      <td>10</td>\n",
       "      <td>0.0</td>\n",
       "    </tr>\n",
       "    <tr>\n",
       "      <th>2016-12-30 08:15:00</th>\n",
       "      <td>6.10</td>\n",
       "      <td>78.42</td>\n",
       "      <td>1008.0</td>\n",
       "      <td>1.00</td>\n",
       "      <td>203.00</td>\n",
       "      <td>1.4</td>\n",
       "      <td>0.0</td>\n",
       "      <td>12</td>\n",
       "      <td>8</td>\n",
       "      <td>15</td>\n",
       "      <td>0.0</td>\n",
       "    </tr>\n",
       "    <tr>\n",
       "      <th>2016-12-30 08:20:00</th>\n",
       "      <td>5.40</td>\n",
       "      <td>79.46</td>\n",
       "      <td>1008.0</td>\n",
       "      <td>1.32</td>\n",
       "      <td>186.50</td>\n",
       "      <td>2.0</td>\n",
       "      <td>0.0</td>\n",
       "      <td>12</td>\n",
       "      <td>8</td>\n",
       "      <td>20</td>\n",
       "      <td>0.0</td>\n",
       "    </tr>\n",
       "  </tbody>\n",
       "</table>\n",
       "</div>"
      ],
      "text/plain": [
       "                     air_temp  relhum   press  windsp  winddir  max_windsp  \\\n",
       "timeStamp                                                                    \n",
       "2016-12-30 08:00:00      6.70   77.70  1008.0    0.96    93.50         1.9   \n",
       "2016-12-30 08:05:00      6.56   78.20  1008.0    1.24    79.35         2.0   \n",
       "2016-12-30 08:10:00      6.20   78.52  1008.0    0.92    39.37         1.8   \n",
       "2016-12-30 08:15:00      6.10   78.42  1008.0    1.00   203.00         1.4   \n",
       "2016-12-30 08:20:00      5.40   79.46  1008.0    1.32   186.50         2.0   \n",
       "\n",
       "                     precipitation  mes  hora  min  ghi  \n",
       "timeStamp                                                \n",
       "2016-12-30 08:00:00            0.0   12     8    0  0.0  \n",
       "2016-12-30 08:05:00            0.0   12     8    5  0.0  \n",
       "2016-12-30 08:10:00            0.0   12     8   10  0.0  \n",
       "2016-12-30 08:15:00            0.0   12     8   15  0.0  \n",
       "2016-12-30 08:20:00            0.0   12     8   20  0.0  "
      ]
     },
     "execution_count": 33,
     "metadata": {},
     "output_type": "execute_result"
    }
   ],
   "source": [
    "newData = dataFinal.tail(288)\n",
    "newData.head()"
   ]
  },
  {
   "cell_type": "code",
   "execution_count": 35,
   "metadata": {},
   "outputs": [
    {
     "data": {
      "text/plain": [
       "<matplotlib.axes._subplots.AxesSubplot at 0x186953412b0>"
      ]
     },
     "execution_count": 35,
     "metadata": {},
     "output_type": "execute_result"
    },
    {
     "data": {
      "image/png": "[encoded data removed]",
      "text/plain": [
       "<Figure size 432x288 with 1 Axes>"
      ]
     },
     "metadata": {
      "needs_background": "light"
     },
     "output_type": "display_data"
    }
   ],
   "source": [
    "newData[\"ghi\"].plot()"
   ]
  },
  {
   "cell_type": "code",
   "execution_count": 46,
   "metadata": {},
   "outputs": [],
   "source": [
    "scaler = StandardScaler()\n",
    "X = scaler.fit_transform(newData)\n",
    "y = np.copy(X)\n",
    "\n",
    "y = y[:,-1]\n",
    "X = X[:,:-1]\n",
    "\n",
    "X = torch.FloatTensor(X)\n",
    "y = torch.FloatTensor(y).reshape(-1,1)"
   ]
  },
  {
   "cell_type": "code",
   "execution_count": 48,
   "metadata": {},
   "outputs": [],
   "source": [
    "model.eval()\n",
    "with torch.no_grad():\n",
    "    y_hat = model(X)\n",
    "    \n",
    "xData = pd.DataFrame(X.numpy())\n",
    "yData = pd.DataFrame(y_hat.numpy())\n",
    "prevData = pd.concat([xData,yData], axis = 1)\n",
    "prevData = scaler.inverse_transform(prevData)\n",
    "prevData = pd.DataFrame(prevData,columns=['air_temp', 'relhum', 'press', 'windsp', 'winddir', 'max_windsp',\n",
    "       'precipitation', 'mes','hora', 'min' ,'ghi'])\n"
   ]
  },
  {
   "cell_type": "code",
   "execution_count": 84,
   "metadata": {},
   "outputs": [
    {
     "name": "stdout",
     "output_type": "stream",
     "text": [
      "RMSE: 0.2564707100391388\n",
      "NRMSE: 0.08983495831489563\n",
      "MAPE: 0.2872011065483093\n",
      "MBE : 0.03023073449730873\n",
      "SCORE: 0.9342227716767619\n"
     ]
    }
   ],
   "source": [
    "print(f\"RMSE: {rmse_tensor(y,y_hat)}\")\n",
    "print(f\"NRMSE: {nrmse_tensor(y,y_hat)}\")\n",
    "print(f\"MAPE: {mape_tensor(y,y_hat)}\")\n",
    "print(f\"MBE : {MBE_tensor(y,y_hat)}\")\n",
    "print(f\"SCORE: {r2_score(y,y_hat)}\")"
   ]
  },
  {
   "cell_type": "code",
   "execution_count": 90,
   "metadata": {},
   "outputs": [
    {
     "data": {
      "image/png": "[encoded data removed]",
      "text/plain": [
       "<Figure size 864x576 with 1 Axes>"
      ]
     },
     "metadata": {
      "needs_background": "light"
     },
     "output_type": "display_data"
    }
   ],
   "source": [
    "plt.figure(figsize = (12,8))\n",
    "plt.plot(newData[\"ghi\"].values, label = \"Original Data\")\n",
    "plt.plot(prevData[\"ghi\"].values, label = \"Predict Data\")\n",
    "plt.title(\"Original e Predict\")\n",
    "plt.xlabel(\"TimeStamp 5 minutes\")\n",
    "plt.ylabel(\"GHI\")\n",
    "plt.legend()\n",
    "plt.grid(True)"
   ]
  },
  {
   "cell_type": "code",
   "execution_count": 83,
   "metadata": {},
   "outputs": [],
   "source": [
    "EPSILON = 1e-10\n",
    "def _error_tensor(actual, predicted):\n",
    "    \"\"\" Simple error \"\"\"\n",
    "    return actual - predicted\n",
    "\n",
    "\n",
    "def _percentage_error_tensor(actual, predicted):\n",
    "    \"\"\"\n",
    "    Percentage error\n",
    "    Note: result is NOT multiplied by 100\n",
    "    \"\"\"\n",
    "    \n",
    "    return _error_tensor(actual, predicted) / (actual + EPSILON)\n",
    "\n",
    "def mape_tensor(actual, predicted):\n",
    "    \"\"\"\n",
    "    Mean Absolute Percentage Error\n",
    "    Properties:\n",
    "        + Easy to interpret\n",
    "        + Scale independent\n",
    "        - Biased, not symmetric\n",
    "        - Undefined when actual[t] == 0\n",
    "    Note: result is NOT multiplied by 100\n",
    "    \"\"\"\n",
    "    \n",
    "    return torch.mean(torch.abs(_percentage_error_tensor(actual, predicted)))\n",
    "\n",
    "def mse_tensor(actual, predicted):\n",
    "    \"\"\" Mean Squared Error \"\"\"\n",
    "    \n",
    "    return torch.mean((_error_tensor(actual,predicted)).pow(2))\n",
    "\n",
    "\n",
    "def rmse_tensor(actual, predicted):\n",
    "    \"\"\" Root Mean Squared Error \"\"\"\n",
    "    \n",
    "    return torch.sqrt(mse_tensor(actual, predicted))\n",
    "\n",
    "\n",
    "def nrmse_tensor(actual, predicted):\n",
    "    \"\"\" Normalized Root Mean Squared Error \"\"\"\n",
    "    \n",
    "    return rmse_tensor(actual, predicted) / (actual.max() - actual.min())\n",
    "\n",
    "def MBE_tensor(y_true, y_pred):\n",
    "    '''\n",
    "    Parameters:\n",
    "        y_true (array): Array of observed values\n",
    "        y_pred (array): Array of prediction values\n",
    "\n",
    "    Returns:\n",
    "        mbe (float): Biais score\n",
    "    '''\n",
    "    diff = (y_true-y_pred)\n",
    "    mbe = diff.mean()\n",
    "    return mbe"
   ]
  },
  {
   "cell_type": "code",
   "execution_count": 80,
   "metadata": {},
   "outputs": [],
   "source": [
    "a = torch.tensor([2,3])"
   ]
  },
  {
   "cell_type": "code",
   "execution_count": 81,
   "metadata": {},
   "outputs": [
    {
     "data": {
      "text/plain": [
       "tensor([2, 3])"
      ]
     },
     "execution_count": 81,
     "metadata": {},
     "output_type": "execute_result"
    }
   ],
   "source": [
    "a"
   ]
  },
  {
   "cell_type": "code",
   "execution_count": 82,
   "metadata": {},
   "outputs": [
    {
     "data": {
      "text/plain": [
       "tensor([4, 9])"
      ]
     },
     "execution_count": 82,
     "metadata": {},
     "output_type": "execute_result"
    }
   ],
   "source": [
    "a.pow(2)"
   ]
  },
  {
   "cell_type": "code",
   "execution_count": null,
   "metadata": {},
   "outputs": [],
   "source": []
  }
 ],
 "metadata": {
  "kernelspec": {
   "display_name": "Python 3",
   "language": "python",
   "name": "python3"
  },
  "language_info": {
   "codemirror_mode": {
    "name": "ipython",
    "version": 3
   },
   "file_extension": ".py",
   "mimetype": "text/x-python",
   "name": "python",
   "nbconvert_exporter": "python",
   "pygments_lexer": "ipython3",
   "version": "3.7.3"
  }
 },
 "nbformat": 4,
 "nbformat_minor": 2
}
